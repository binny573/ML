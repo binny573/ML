{
 "cells": [
  {
   "cell_type": "code",
   "execution_count": null,
   "metadata": {},
   "outputs": [],
   "source": []
  },
  {
   "cell_type": "code",
   "execution_count": 1,
   "metadata": {},
   "outputs": [],
   "source": [
    "import torch\n",
    "import torch.nn as nn\n",
    "import matplotlib.pyplot as plt\n",
    "import numpy as np\n",
    "import pandas as pd\n",
    "import seaborn as sns\n",
    "import matplotlib.pyplot as plt\n",
    "import math\n",
    "from sklearn.preprocessing import MinMaxScaler\n",
    "from sklearn.preprocessing import StandardScaler"
   ]
  },
  {
   "cell_type": "code",
   "execution_count": 217,
   "metadata": {},
   "outputs": [],
   "source": [
    "from IPython.display import clear_output"
   ]
  },
  {
   "cell_type": "code",
   "execution_count": 57,
   "metadata": {
    "scrolled": true
   },
   "outputs": [],
   "source": [
    "import argparse\n",
    "import os\n",
    "\n",
    "import torch\n",
    "from tqdm import tqdm\n",
    "from torch.autograd import Variable\n",
    "from torch.autograd import grad as torch_grad\n",
    "import matplotlib.pyplot as plt\n",
    "#from torch.utils.tensorboard import writer, SummaryWriter\n",
    "from torch.utils.data import DataLoader\n",
    "from math import pi\n",
    "\n",
    "#from datasets.datasets import Sines\n",
    "#from models.wgangp import Generator, Critic"
   ]
  },
  {
   "cell_type": "code",
   "execution_count": 34,
   "metadata": {},
   "outputs": [
    {
     "name": "stdout",
     "output_type": "stream",
     "text": [
      "Collecting pip-upgrade-tool\n",
      "  Downloading https://files.pythonhosted.org/packages/40/44/b09baed899b76f6b49231ca7489fb4e076190111a4c34d48c67f68ff9366/pip_upgrade_tool-0.4.5-py3-none-any.whl\n",
      "Requirement already satisfied: packaging in d:\\program files\\anaconda3\\envs\\envpytorch\\lib\\site-packages (from pip-upgrade-tool) (20.4)\n",
      "Requirement already satisfied: six in d:\\program files\\anaconda3\\envs\\envpytorch\\lib\\site-packages (from packaging->pip-upgrade-tool) (1.15.0)\n",
      "Requirement already satisfied: pyparsing>=2.0.2 in d:\\program files\\anaconda3\\envs\\envpytorch\\lib\\site-packages (from packaging->pip-upgrade-tool) (2.4.7)\n",
      "Installing collected packages: pip-upgrade-tool\n",
      "Successfully installed pip-upgrade-tool-0.4.5\n"
     ]
    }
   ],
   "source": [
    "!pip install pip-upgrade-tool"
   ]
  },
  {
   "cell_type": "code",
   "execution_count": 35,
   "metadata": {
    "collapsed": true
   },
   "outputs": [
    {
     "name": "stdout",
     "output_type": "stream",
     "text": [
      "Requirement already satisfied: datasets in c:\\users\\patel\\appdata\\roaming\\python\\python37\\site-packages (1.1.3)\n",
      "Requirement already satisfied: dill in c:\\users\\patel\\appdata\\roaming\\python\\python37\\site-packages (from datasets) (0.3.3)\n",
      "Requirement already satisfied: pyarrow>=0.17.1 in c:\\users\\patel\\appdata\\roaming\\python\\python37\\site-packages (from datasets) (2.0.0)\n",
      "Requirement already satisfied: tqdm<4.50.0,>=4.27 in d:\\program files\\anaconda3\\envs\\envpytorch\\lib\\site-packages (from datasets) (4.49.0)\n",
      "Requirement already satisfied: multiprocess in c:\\users\\patel\\appdata\\roaming\\python\\python37\\site-packages (from datasets) (0.70.11.1)\n",
      "Requirement already satisfied: requests>=2.19.0 in d:\\program files\\anaconda3\\envs\\envpytorch\\lib\\site-packages (from datasets) (2.24.0)\n",
      "Requirement already satisfied: numpy>=1.17 in d:\\program files\\anaconda3\\envs\\envpytorch\\lib\\site-packages (from datasets) (1.19.4)\n",
      "Requirement already satisfied: pandas in d:\\program files\\anaconda3\\envs\\envpytorch\\lib\\site-packages (from datasets) (0.24.2)\n",
      "Requirement already satisfied: xxhash in c:\\users\\patel\\appdata\\roaming\\python\\python37\\site-packages (from datasets) (2.0.0)\n",
      "Requirement already satisfied: urllib3!=1.25.0,!=1.25.1,<1.26,>=1.21.1 in d:\\program files\\anaconda3\\envs\\envpytorch\\lib\\site-packages (from requests>=2.19.0->datasets) (1.25.10)\n",
      "Requirement already satisfied: chardet<4,>=3.0.2 in d:\\program files\\anaconda3\\envs\\envpytorch\\lib\\site-packages (from requests>=2.19.0->datasets) (3.0.4)\n",
      "Requirement already satisfied: certifi>=2017.4.17 in d:\\program files\\anaconda3\\envs\\envpytorch\\lib\\site-packages (from requests>=2.19.0->datasets) (2020.6.20)\n",
      "Requirement already satisfied: idna<3,>=2.5 in d:\\program files\\anaconda3\\envs\\envpytorch\\lib\\site-packages (from requests>=2.19.0->datasets) (2.10)\n",
      "Requirement already satisfied: python-dateutil>=2.5.0 in d:\\program files\\anaconda3\\envs\\envpytorch\\lib\\site-packages (from pandas->datasets) (2.8.1)\n",
      "Requirement already satisfied: pytz>=2011k in d:\\program files\\anaconda3\\envs\\envpytorch\\lib\\site-packages (from pandas->datasets) (2020.1)\n",
      "Requirement already satisfied: six>=1.5 in d:\\program files\\anaconda3\\envs\\envpytorch\\lib\\site-packages (from python-dateutil>=2.5.0->pandas->datasets) (1.15.0)\n"
     ]
    }
   ],
   "source": [
    "!pip install datasets --user"
   ]
  },
  {
   "cell_type": "code",
   "execution_count": 12,
   "metadata": {
    "collapsed": true
   },
   "outputs": [
    {
     "name": "stdout",
     "output_type": "stream",
     "text": [
      "Collecting doqu\n",
      "  Downloading https://files.pythonhosted.org/packages/7c/7f/f143c250f225b19ecea4e7d39f0158cde7bb449545ac99a17a3e90556df0/doqu-0.28.2.tar.gz (54kB)\n",
      "Building wheels for collected packages: doqu\n",
      "  Building wheel for doqu (setup.py): started\n",
      "  Building wheel for doqu (setup.py): finished with status 'done'\n",
      "  Stored in directory: C:\\Users\\patel\\AppData\\Local\\pip\\Cache\\wheels\\e3\\3b\\0a\\773eefceefaf461b52b68a846e4de8c0030966e11319030721\n",
      "Successfully built doqu\n",
      "Installing collected packages: doqu\n",
      "Successfully installed doqu-0.28.2\n"
     ]
    }
   ],
   "source": [
    "!pip install doqu"
   ]
  },
  {
   "cell_type": "code",
   "execution_count": 33,
   "metadata": {
    "collapsed": true
   },
   "outputs": [
    {
     "name": "stdout",
     "output_type": "stream",
     "text": [
      "Collecting models"
     ]
    },
    {
     "name": "stderr",
     "output_type": "stream",
     "text": [
      "Command \"python setup.py egg_info\" failed with error code 1 in C:\\Users\\patel\\AppData\\Local\\Temp\\pip-install-pk7x812u\\models\\\n"
     ]
    },
    {
     "name": "stdout",
     "output_type": "stream",
     "text": [
      "\n",
      "  Using cached https://files.pythonhosted.org/packages/92/3c/ac1ddde60c02b5a46993bd3c6f4c66a9dbc100059da8333178ce17a22db5/models-0.9.3.tar.gz\n",
      "    Complete output from command python setup.py egg_info:\n",
      "    Traceback (most recent call last):\n",
      "      File \"<string>\", line 1, in <module>\n",
      "      File \"C:\\Users\\patel\\AppData\\Local\\Temp\\pip-install-pk7x812u\\models\\setup.py\", line 25, in <module>\n",
      "        import models\n",
      "      File \"C:\\Users\\patel\\AppData\\Local\\Temp\\pip-install-pk7x812u\\models\\models\\__init__.py\", line 23, in <module>\n",
      "        from base import *\n",
      "    ModuleNotFoundError: No module named 'base'\n",
      "    \n",
      "    ----------------------------------------\n"
     ]
    }
   ],
   "source": [
    "!pip install models --user"
   ]
  },
  {
   "cell_type": "code",
   "execution_count": 37,
   "metadata": {
    "collapsed": true
   },
   "outputs": [
    {
     "ename": "ModuleNotFoundError",
     "evalue": "No module named 'datasets'",
     "output_type": "error",
     "traceback": [
      "\u001b[1;31m---------------------------------------------------------------------------\u001b[0m",
      "\u001b[1;31mModuleNotFoundError\u001b[0m                       Traceback (most recent call last)",
      "\u001b[1;32m<ipython-input-37-652e886d387f>\u001b[0m in \u001b[0;36m<module>\u001b[1;34m\u001b[0m\n\u001b[1;32m----> 1\u001b[1;33m \u001b[1;32mimport\u001b[0m \u001b[0mdatasets\u001b[0m\u001b[1;33m\u001b[0m\u001b[1;33m\u001b[0m\u001b[0m\n\u001b[0m",
      "\u001b[1;31mModuleNotFoundError\u001b[0m: No module named 'datasets'"
     ]
    }
   ],
   "source": [
    "import datasets"
   ]
  },
  {
   "cell_type": "code",
   "execution_count": 14,
   "metadata": {
    "collapsed": true
   },
   "outputs": [
    {
     "ename": "ModuleNotFoundError",
     "evalue": "No module named 'document_base'",
     "output_type": "error",
     "traceback": [
      "\u001b[1;31m---------------------------------------------------------------------------\u001b[0m",
      "\u001b[1;31mModuleNotFoundError\u001b[0m                       Traceback (most recent call last)",
      "\u001b[1;32m<ipython-input-14-10a0c54acb27>\u001b[0m in \u001b[0;36m<module>\u001b[1;34m\u001b[0m\n\u001b[1;32m----> 1\u001b[1;33m \u001b[1;32mfrom\u001b[0m \u001b[0mdoqu\u001b[0m\u001b[1;33m.\u001b[0m\u001b[0mrecurrent_models\u001b[0m \u001b[1;32mimport\u001b[0m \u001b[0mLSTMGenerator\u001b[0m\u001b[1;33m,\u001b[0m \u001b[0mLSTMDiscriminator\u001b[0m\u001b[1;33m\u001b[0m\u001b[1;33m\u001b[0m\u001b[0m\n\u001b[0m",
      "\u001b[1;32mD:\\Program Files\\Anaconda3\\envs\\envpytorch\\lib\\site-packages\\doqu\\__init__.py\u001b[0m in \u001b[0;36m<module>\u001b[1;34m\u001b[0m\n\u001b[0;32m     19\u001b[0m \u001b[1;31m#    along with Doqu.  If not, see <http://gnu.org/licenses/>.\u001b[0m\u001b[1;33m\u001b[0m\u001b[1;33m\u001b[0m\u001b[1;33m\u001b[0m\u001b[0m\n\u001b[0;32m     20\u001b[0m \u001b[1;33m\u001b[0m\u001b[0m\n\u001b[1;32m---> 21\u001b[1;33m \u001b[1;32mfrom\u001b[0m \u001b[0mdocument_base\u001b[0m \u001b[1;32mimport\u001b[0m \u001b[0mDocument\u001b[0m\u001b[1;33m,\u001b[0m \u001b[0mMany\u001b[0m\u001b[1;33m\u001b[0m\u001b[1;33m\u001b[0m\u001b[0m\n\u001b[0m\u001b[0;32m     22\u001b[0m \u001b[1;32mfrom\u001b[0m \u001b[0mutils\u001b[0m \u001b[1;32mimport\u001b[0m \u001b[0mget_db\u001b[0m\u001b[1;33m,\u001b[0m \u001b[0mload_fixture\u001b[0m\u001b[1;33m\u001b[0m\u001b[1;33m\u001b[0m\u001b[0m\n",
      "\u001b[1;31mModuleNotFoundError\u001b[0m: No module named 'document_base'"
     ]
    }
   ],
   "source": [
    "from doqu.recurrent_models import LSTMGenerator, LSTMDiscriminator"
   ]
  },
  {
   "cell_type": "code",
   "execution_count": 2,
   "metadata": {},
   "outputs": [],
   "source": [
    "df_1=pd.read_csv('Datasets/Rapid Component degradation Vega/NewBlade001.csv')\n",
    "df_2=pd.read_csv('Datasets/Rapid Component degradation Vega/NewBlade002.csv')\n",
    "df_3=pd.read_csv('Datasets/Rapid Component degradation Vega/NewBlade003.csv')"
   ]
  },
  {
   "cell_type": "code",
   "execution_count": 5,
   "metadata": {
    "collapsed": true
   },
   "outputs": [
    {
     "name": "stdout",
     "output_type": "stream",
     "text": [
      "   Timestamp  pCut Motor: Torque   pCut CTRL Position controller: Lag error  \\\n",
      "0     -0.188           -0.112131                                  -0.002490   \n",
      "1     -0.184           -0.088931                                  -0.003863   \n",
      "2     -0.180           -0.115141                                   0.001630   \n",
      "3     -0.176           -0.111815                                   0.003003   \n",
      "4     -0.172           -0.130970                                   0.004376   \n",
      "\n",
      "    pCut CTRL Position controller: Actual position  \\\n",
      "0                                          -884606   \n",
      "1                                          -884606   \n",
      "2                                          -884606   \n",
      "3                                          -884606   \n",
      "4                                          -884606   \n",
      "\n",
      "    pCut CTRL Position controller: Actual speed  \\\n",
      "0                                      0.000000   \n",
      "1                                     17.166138   \n",
      "2                                     -6.866455   \n",
      "3                                    -13.732910   \n",
      "4                                     -6.866455   \n",
      "\n",
      "    pSvolFilm CTRL Position controller: Actual position  \\\n",
      "0                                              11128      \n",
      "1                                              11128      \n",
      "2                                              11128      \n",
      "3                                              11128      \n",
      "4                                              11128      \n",
      "\n",
      "    pSvolFilm CTRL Position controller: Actual speed  \\\n",
      "0                                           2.504289   \n",
      "1                                          -2.504289   \n",
      "2                                           7.513016   \n",
      "3                                          -2.504289   \n",
      "4                                           0.000000   \n",
      "\n",
      "    pSvolFilm CTRL Position controller: Lag error  \n",
      "0                                        0.261085  \n",
      "1                                        0.260083  \n",
      "2                                        0.259081  \n",
      "3                                        0.260083  \n",
      "4                                        0.261085  \n"
     ]
    }
   ],
   "source": [
    "print(df_1.head())"
   ]
  },
  {
   "cell_type": "code",
   "execution_count": 3,
   "metadata": {},
   "outputs": [
    {
     "name": "stdout",
     "output_type": "stream",
     "text": [
      "(4096, 7)\n",
      "tensor([[-1.1213e-01, -2.4900e-03, -8.8461e+05,  ...,  1.1128e+04,\n",
      "          2.5043e+00,  2.6108e-01],\n",
      "        [-8.8931e-02, -3.8633e-03, -8.8461e+05,  ...,  1.1128e+04,\n",
      "         -2.5043e+00,  2.6008e-01],\n",
      "        [-1.1514e-01,  1.6298e-03, -8.8461e+05,  ...,  1.1128e+04,\n",
      "          7.5130e+00,  2.5908e-01],\n",
      "        ...,\n",
      "        [-2.1498e-01, -3.7651e-03, -8.4861e+05,  ...,  2.0825e+04,\n",
      "          6.7617e+01,  5.4126e-01],\n",
      "        [-2.2431e-01, -3.8319e-03, -8.4861e+05,  ...,  2.0825e+04,\n",
      "          6.5113e+01,  5.3676e-01],\n",
      "        [-2.3109e-01, -1.1520e-03, -8.4861e+05,  ...,  2.0825e+04,\n",
      "          5.7600e+01,  5.3631e-01]]) torch.Size([4096, 7])\n",
      "tensor([[-3.0946e-02, -1.1168e-03, -8.4501e+05,  ...,  2.5528e+04,\n",
      "         -2.5043e+00, -7.8373e-02],\n",
      "        [-3.5880e-02,  2.5654e-04, -8.4501e+05,  ...,  2.5528e+04,\n",
      "          0.0000e+00, -8.0376e-02],\n",
      "        [-4.4996e-02,  3.0031e-03, -8.4501e+05,  ...,  2.5528e+04,\n",
      "         -1.0017e+01, -7.5367e-02],\n",
      "        ...,\n",
      "        [-3.8165e-01, -7.4387e-05, -8.3882e+05,  ...,  3.5097e+04,\n",
      "          0.0000e+00,  3.5250e-01],\n",
      "        [-3.8313e-01, -7.4387e-05, -8.3882e+05,  ...,  3.5097e+04,\n",
      "          7.5130e+00,  3.5150e-01],\n",
      "        [-3.8478e-01, -7.4387e-05, -8.3882e+05,  ...,  3.5097e+04,\n",
      "          5.0087e+00,  3.5250e-01]]) torch.Size([2048, 7])\n"
     ]
    }
   ],
   "source": [
    "#=========Train tensor========\n",
    "df_1=df_1.iloc[:,1:]\n",
    "df_2=df_2.iloc[:,1:] #to make divisible for a batch of 3\n",
    "df_train=df_1.append(df_2)\n",
    "print(df_train.shape)\n",
    "num=np.array(df_train)\n",
    "df_1_tensor=torch.tensor(num, dtype=torch.float32)\n",
    "print(df_1_tensor, df_1_tensor.shape)\n",
    "#=========Test tensor=========\n",
    "df_3=df_3.iloc[:,1:]\n",
    "#df_test=df_1.iloc[1500:,1:]\n",
    "num=np.array(df_3)\n",
    "test_tensor=torch.tensor(num, dtype=torch.float32)\n",
    "print(test_tensor, test_tensor.shape)"
   ]
  },
  {
   "cell_type": "code",
   "execution_count": 5,
   "metadata": {
    "scrolled": false
   },
   "outputs": [
    {
     "name": "stdout",
     "output_type": "stream",
     "text": [
      "torch.Size([4096, 1]) [StandardScaler()]\n",
      "torch.Size([4096, 1]) [StandardScaler(), StandardScaler()]\n",
      "torch.Size([4096, 1]) [StandardScaler(), StandardScaler(), StandardScaler()]\n",
      "torch.Size([4096, 1]) [StandardScaler(), StandardScaler(), StandardScaler(), StandardScaler()]\n",
      "torch.Size([4096, 1]) [StandardScaler(), StandardScaler(), StandardScaler(), StandardScaler(), StandardScaler()]\n",
      "torch.Size([4096, 1]) [StandardScaler(), StandardScaler(), StandardScaler(), StandardScaler(), StandardScaler(), StandardScaler()]\n",
      "torch.Size([4096, 1]) [StandardScaler(), StandardScaler(), StandardScaler(), StandardScaler(), StandardScaler(), StandardScaler(), StandardScaler()]\n"
     ]
    },
    {
     "data": {
      "image/png": "[encoded data removed]",
      "text/plain": [
       "<Figure size 432x288 with 1 Axes>"
      ]
     },
     "metadata": {
      "needs_background": "light"
     },
     "output_type": "display_data"
    }
   ],
   "source": [
    "l=[0,1,2,3,4,5,6]\n",
    "scal_objs=[]\n",
    "for val in l:\n",
    "    scalex=StandardScaler().fit(df_1_tensor[:,val].reshape(-1,1))\n",
    "    scal_objs.append(scalex)\n",
    "    x=scalex.transform(df_1_tensor[:,val].reshape(-1,1))\n",
    "    x=torch.tensor(x, dtype=torch.float32)\n",
    "    print(x.shape,scal_objs)\n",
    "    df_1_tensor[:,val]=x.reshape(-1)#makes [4096,1] to [4096]\n",
    "    plt.plot(df_1_tensor[:,val])"
   ]
  },
  {
   "cell_type": "code",
   "execution_count": 6,
   "metadata": {},
   "outputs": [
    {
     "data": {
      "image/png": "[encoded data removed]",
      "text/plain": [
       "<Figure size 432x288 with 1 Axes>"
      ]
     },
     "metadata": {
      "needs_background": "light"
     },
     "output_type": "display_data"
    }
   ],
   "source": [
    "#taking thousand points for test\n",
    "l=[0,1,2,3,4,5,6]\n",
    "scal_ob=[]\n",
    "for val in l:\n",
    "    x=StandardScaler().fit_transform(test_tensor[:,val].reshape(-1,1))\n",
    "    x=x.reshape(-1)\n",
    "    x=torch.tensor(x, dtype=torch.float32)\n",
    "    test_tensor[:,val]=x\n",
    "    plt.plot(test_tensor[:,val])"
   ]
  },
  {
   "cell_type": "code",
   "execution_count": 7,
   "metadata": {},
   "outputs": [
    {
     "name": "stdout",
     "output_type": "stream",
     "text": [
      "[[-0.01204535 -0.06168866 -1.1910746  ... -1.4153684  -2.0585477\n",
      "  -3.2994404 ]\n",
      " [ 0.05072989 -0.09686856 -1.1910746  ... -1.4153684  -2.0666332\n",
      "  -3.308309  ]\n",
      " [-0.02018785  0.04385107 -1.1910746  ... -1.4153684  -2.050462\n",
      "  -3.3171775 ]\n",
      " ...\n",
      " [-0.29031998 -0.09435221  1.279744   ...  1.363738   -1.9534342\n",
      "  -0.81901   ]\n",
      " [-0.31556702 -0.09606233  1.279744   ...  1.363738   -1.9574771\n",
      "  -0.8588762 ]\n",
      " [-0.33391637 -0.02741268  1.2798126  ...  1.363738   -1.9696056\n",
      "  -0.86286974]] (4096, 7)\n",
      "tensor([[-0.0120, -0.0617, -1.1911,  ..., -1.4154, -2.0585, -3.2994],\n",
      "        [ 0.0507, -0.0969, -1.1911,  ..., -1.4154, -2.0666, -3.3083],\n",
      "        [-0.0202,  0.0439, -1.1911,  ..., -1.4154, -2.0505, -3.3172],\n",
      "        ...,\n",
      "        [-0.2903, -0.0944,  1.2797,  ...,  1.3637, -1.9534, -0.8190],\n",
      "        [-0.3156, -0.0961,  1.2797,  ...,  1.3637, -1.9575, -0.8589],\n",
      "        [-0.3339, -0.0274,  1.2798,  ...,  1.3637, -1.9696, -0.8629]]) torch.Size([4096, 7]) 4096\n"
     ]
    }
   ],
   "source": [
    "num_df1=np.array(df_1_tensor)\n",
    "print(num_df1,num_df1.shape)\n",
    "dummy=torch.tensor(num_df1)\n",
    "print(dummy,dummy.shape,dummy.shape[0])"
   ]
  },
  {
   "cell_type": "code",
   "execution_count": 8,
   "metadata": {},
   "outputs": [
    {
     "name": "stdout",
     "output_type": "stream",
     "text": [
      "[[-0.01204535 -0.06168866 -1.1910746  ... -1.4153684  -2.0585477\n",
      "  -3.2994404 ]\n",
      " [ 0.05072989 -0.09686856 -1.1910746  ... -1.4153684  -2.0666332\n",
      "  -3.308309  ]\n",
      " [-0.02018785  0.04385107 -1.1910746  ... -1.4153684  -2.050462\n",
      "  -3.3171775 ]\n",
      " ...\n",
      " [-0.29031998 -0.09435221  1.279744   ...  1.363738   -1.9534342\n",
      "  -0.81901   ]\n",
      " [-0.31556702 -0.09606233  1.279744   ...  1.363738   -1.9574771\n",
      "  -0.8588762 ]\n",
      " [-0.33391637 -0.02741268  1.2798126  ...  1.363738   -1.9696056\n",
      "  -0.86286974]] (4096, 7)\n",
      "tensor([[-0.0120, -0.0617, -1.1911,  ..., -1.4154, -2.0585, -3.2994],\n",
      "        [ 0.0507, -0.0969, -1.1911,  ..., -1.4154, -2.0666, -3.3083],\n",
      "        [-0.0202,  0.0439, -1.1911,  ..., -1.4154, -2.0505, -3.3172],\n",
      "        ...,\n",
      "        [-0.2903, -0.0944,  1.2797,  ...,  1.3637, -1.9534, -0.8190],\n",
      "        [-0.3156, -0.0961,  1.2797,  ...,  1.3637, -1.9575, -0.8589],\n",
      "        [-0.3339, -0.0274,  1.2798,  ...,  1.3637, -1.9696, -0.8629]]) torch.Size([4096, 7])\n"
     ]
    }
   ],
   "source": [
    "num_df1=np.array(df_1_tensor)\n",
    "print(num_df1,num_df1.shape)\n",
    "dummy2=torch.tensor(num_df1)\n",
    "print(dummy2,dummy2.shape)"
   ]
  },
  {
   "cell_type": "code",
   "execution_count": 19,
   "metadata": {
    "scrolled": true
   },
   "outputs": [
    {
     "name": "stdout",
     "output_type": "stream",
     "text": [
      "4096 7 2048 7\n"
     ]
    }
   ],
   "source": [
    "train_rows=df_1_tensor.shape[0]\n",
    "features=df_1_tensor.shape[1]\n",
    "test_rows=test_tensor.shape[0]\n",
    "test_columns=test_tensor.shape[1]\n",
    "print(train_rows,features,test_rows,test_columns)"
   ]
  },
  {
   "cell_type": "raw",
   "metadata": {},
   "source": [
    "Not inserting noise yet, just doing the normal GAN thing"
   ]
  },
  {
   "cell_type": "code",
   "execution_count": 204,
   "metadata": {},
   "outputs": [],
   "source": [
    "class Discriminator(nn.Module):\n",
    "    def __init__(self, input_len, hidden_len):#, output_len=1):\n",
    "        super(Discriminator, self).__init__()\n",
    "        self.hidden_len=hidden_len\n",
    "        \n",
    "        self.layer1 = nn.Sequential(\n",
    "            nn.Linear(input_len,hidden_len),\n",
    "            nn.LeakyReLU(0.2)\n",
    "            #nn.Dropout(0.3)\n",
    "        )\n",
    "        self.layer2 = nn.Sequential(\n",
    "            nn.LSTM(hidden_len,hidden_len),\n",
    "            #nn.LeakyReLU(0.2)\n",
    "            #nn.Dropout(0.3)\n",
    "        )\n",
    "        self.layer3 = nn.Sequential(\n",
    "            nn.Linear(hidden_len, input_len),#to get mu and logvar that we use to get samples of the distribution\n",
    "            nn.Sigmoid() #for BCE\n",
    "        )\n",
    "    \n",
    "    def forward(self, x):\n",
    "        length=x.shape[0]\n",
    "        x= self.layer1(x)\n",
    "        x=x.reshape(1,4096,self.hidden_len) ###frustrtated \n",
    "        x,_= self.layer2(x)\n",
    "        x= self.layer3(x)\n",
    "        return x\n",
    "hidden_len=16\n",
    "discriminator = Discriminator(features,16)"
   ]
  },
  {
   "cell_type": "code",
   "execution_count": 200,
   "metadata": {},
   "outputs": [],
   "source": [
    "pop=discriminator(df_1_tensor)"
   ]
  },
  {
   "cell_type": "code",
   "execution_count": 201,
   "metadata": {
    "scrolled": true
   },
   "outputs": [
    {
     "name": "stdout",
     "output_type": "stream",
     "text": [
      "torch.Size([1, 4096, 16]) tensor([[[0.0471, 1.0366, 0.3289,  ..., 1.3935, 0.7554, 1.6875],\n",
      "         [0.0493, 1.0578, 0.3136,  ..., 1.3930, 0.7455, 1.6905],\n",
      "         [0.0788, 1.0352, 0.3598,  ..., 1.4028, 0.7923, 1.7295],\n",
      "         ...,\n",
      "         [0.0223, 0.2159, 1.4911,  ..., 0.8832, 0.0383, 0.7783],\n",
      "         [0.0202, 0.2235, 1.4998,  ..., 0.8967, 0.0518, 0.7896],\n",
      "         [0.0404, 0.2148, 1.5264,  ..., 0.9016, 0.0707, 0.8180]]],\n",
      "       grad_fn=<ViewBackward>)\n"
     ]
    }
   ],
   "source": [
    "print(pop.shape,pop)"
   ]
  },
  {
   "cell_type": "code",
   "execution_count": null,
   "metadata": {},
   "outputs": [],
   "source": []
  },
  {
   "cell_type": "code",
   "execution_count": 203,
   "metadata": {},
   "outputs": [],
   "source": [
    "class Generator(nn.Module):\n",
    "    def __init__(self,input_len, hidden_len):#, output_len=2):\n",
    "        super(Generator, self).__init__()\n",
    "        self.hidden_len=hidden_len\n",
    "        self.input_len=input_len\n",
    "        \n",
    "        self.layer1 = nn.Sequential(\n",
    "            nn.Linear(input_len,hidden_len),\n",
    "            nn.ReLU()\n",
    "        )\n",
    "\n",
    "        self.layer2=nn.Sequential(\n",
    "              nn.LSTM(hidden_len,hidden_len),\n",
    "              #nn.ReLU()\n",
    "            )\n",
    "        self.layer3 = nn.Sequential(\n",
    "            nn.Linear(hidden_len,input_len),\n",
    "            nn.Sigmoid() #for BCE\n",
    "        )\n",
    "# not sure if sample is directly required\n",
    "#     def getsample(self, mu, logvar):\n",
    "#         if self.training: #inbuilt object which according to me is inherited from nn.Module, comes when model.train() used\n",
    "#             stan_dev=logvar.mul(0.5).exp_()\n",
    "#             eps = stan_dev.data.new(stan_dev.size()).normal_() #acually epsilon is form normal dis table, sample is the whole Mew+X*sigma\n",
    "#             return eps.mul(stan_dev).add_(mu) #Mew+X*sigma\n",
    "#         else:\n",
    "#             return mu    \n",
    "# dont think this is possible in GAN\n",
    "    \n",
    "    def forward(self, x):\n",
    "        length=x.shape[0]\n",
    "        x=self.layer1(x)\n",
    "        x=x.reshape((1,length,self.hidden_len))\n",
    "        x,_=self.layer2(x)\n",
    "        x=self.layer3(x)\n",
    "#         mu=mu_logvar[:,:,0:self.input_len]\n",
    "#         logvar=mu_logvar[:,:,self.input_len:self.input_len*2]\n",
    "        return x\n",
    "hidden_len=16\n",
    "generator= Generator(features,hidden_len)\n",
    "#no need to send value to initialize, made quite simple"
   ]
  },
  {
   "cell_type": "markdown",
   "metadata": {},
   "source": [
    "# Quite terrible generation by State of the art GAN using normal training---\n",
    "this is done after training the network"
   ]
  },
  {
   "cell_type": "markdown",
   "metadata": {},
   "source": [
    "After training I try and feed random noise to the Generator and see the output"
   ]
  },
  {
   "cell_type": "code",
   "execution_count": 232,
   "metadata": {},
   "outputs": [],
   "source": [
    "pop=generator(torch.randn(4096,7))"
   ]
  },
  {
   "cell_type": "code",
   "execution_count": 233,
   "metadata": {
    "scrolled": true
   },
   "outputs": [
    {
     "name": "stdout",
     "output_type": "stream",
     "text": [
      "torch.Size([1, 4096, 7]) tensor([[[0.0118, 0.0355, 0.9059,  ..., 0.9027, 0.3138, 0.1830],\n",
      "         [0.0130, 0.0358, 0.8987,  ..., 0.8910, 0.3189, 0.1714],\n",
      "         [0.0129, 0.0384, 0.9085,  ..., 0.9053, 0.3039, 0.1920],\n",
      "         ...,\n",
      "         [0.0100, 0.0302, 0.8914,  ..., 0.8890, 0.3390, 0.1602],\n",
      "         [0.0128, 0.0346, 0.8909,  ..., 0.8784, 0.3386, 0.1640],\n",
      "         [0.0106, 0.0310, 0.8915,  ..., 0.8808, 0.3544, 0.1530]]],\n",
      "       grad_fn=<SigmoidBackward>)\n"
     ]
    }
   ],
   "source": [
    "print(pop.shape,pop)"
   ]
  },
  {
   "cell_type": "code",
   "execution_count": null,
   "metadata": {},
   "outputs": [],
   "source": [
    "# pop is the data I get after training the network for 10 epochs and feed noise to the generator"
   ]
  },
  {
   "cell_type": "code",
   "execution_count": 248,
   "metadata": {
    "scrolled": true
   },
   "outputs": [
    {
     "data": {
      "text/plain": [
       "[<matplotlib.lines.Line2D at 0x221069c7710>]"
      ]
     },
     "execution_count": 248,
     "metadata": {},
     "output_type": "execute_result"
    },
    {
     "data": {
      "image/png": "[encoded data removed]",
      "text/plain": [
       "<Figure size 432x288 with 1 Axes>"
      ]
     },
     "metadata": {
      "needs_background": "light"
     },
     "output_type": "display_data"
    }
   ],
   "source": [
    "plt.plot(pop[0,:,3].detach().numpy())"
   ]
  },
  {
   "cell_type": "code",
   "execution_count": 247,
   "metadata": {},
   "outputs": [
    {
     "data": {
      "text/plain": [
       "[<matplotlib.lines.Line2D at 0x22106997908>]"
      ]
     },
     "execution_count": 247,
     "metadata": {},
     "output_type": "execute_result"
    },
    {
     "data": {
      "image/png": "[encoded data removed]",
      "text/plain": [
       "<Figure size 432x288 with 1 Axes>"
      ]
     },
     "metadata": {
      "needs_background": "light"
     },
     "output_type": "display_data"
    }
   ],
   "source": [
    "plt.plot(df_1_tensor[:,3])"
   ]
  },
  {
   "cell_type": "code",
   "execution_count": 110,
   "metadata": {},
   "outputs": [
    {
     "name": "stdout",
     "output_type": "stream",
     "text": [
      "torch.Size([1, 4096, 14]) tensor([[[ 0.0300,  0.0475,  0.0376,  ..., -0.0509,  0.0743, -0.2698],\n",
      "         [ 0.0316,  0.0471,  0.0380,  ..., -0.0530,  0.0726, -0.2705],\n",
      "         [ 0.0286,  0.0472,  0.0366,  ..., -0.0491,  0.0759, -0.2699],\n",
      "         ...,\n",
      "         [ 0.0334,  0.0343,  0.0840,  ...,  0.0346,  0.0843, -0.1698],\n",
      "         [ 0.0341,  0.0347,  0.0842,  ...,  0.0337,  0.0837, -0.1708],\n",
      "         [ 0.0341,  0.0344,  0.0842,  ...,  0.0333,  0.0839, -0.1703]]],\n",
      "       grad_fn=<AddBackward0>)\n"
     ]
    }
   ],
   "source": [
    "hidden_len=16\n",
    "generator= Generator(features,hidden_len)\n",
    "mu_logvar=generator(df_1_tensor)\n",
    "print(pop.shape,pop)\n",
    "mu=mu_logvar[:,:,0:features]\n",
    "logvar=mu_logvar[:,:,features:features*2]"
   ]
  },
  {
   "cell_type": "code",
   "execution_count": 133,
   "metadata": {},
   "outputs": [],
   "source": []
  },
  {
   "cell_type": "code",
   "execution_count": 140,
   "metadata": {},
   "outputs": [
    {
     "name": "stdout",
     "output_type": "stream",
     "text": [
      "tensor([[0.9000, 0.9000, 0.9000,  ..., 0.9000, 0.9000, 0.9000],\n",
      "        [0.9000, 0.9000, 0.9000,  ..., 0.9000, 0.9000, 0.9000],\n",
      "        [0.9000, 0.9000, 0.9000,  ..., 0.9000, 0.9000, 0.9000],\n",
      "        ...,\n",
      "        [0.9000, 0.9000, 0.9000,  ..., 0.9000, 0.9000, 0.9000],\n",
      "        [0.9000, 0.9000, 0.9000,  ..., 0.9000, 0.9000, 0.9000],\n",
      "        [0.9000, 0.9000, 0.9000,  ..., 0.9000, 0.9000, 0.9000]])\n"
     ]
    }
   ],
   "source": [
    "data = torch.ones(4096, 7).fill_(0.9)\n",
    "print(data)"
   ]
  },
  {
   "cell_type": "code",
   "execution_count": 212,
   "metadata": {},
   "outputs": [],
   "source": [
    "def train_generator(optimizer, generated_data):\n",
    "    #feeding data to generator object\n",
    "    N=generated_data.data.size(0)\n",
    "    optimizer.zero_grad()\n",
    "    \n",
    "#Run the generated data through the discriminator\n",
    "    prediction=discriminator(generated_data)\n",
    "\n",
    "# using x to generate mu and logvar---- actially wont work in GAN i think\n",
    "# Train the generator with the flipped target ie target is 0.9\n",
    "    # using sogmoid since input has to be between 0 and 1\n",
    "    ones_target = torch.ones(length, features).fill_(0.9)\n",
    "    \n",
    "    error=loss(prediction, ones_target)\n",
    "    error.backward()\n",
    "    \n",
    "    optimizer.step()\n",
    "\n",
    "    return error"
   ]
  },
  {
   "cell_type": "code",
   "execution_count": 155,
   "metadata": {},
   "outputs": [],
   "source": [
    "def train_discriminator(optimizer, real_data, generated_data):\n",
    "    N=real_data.size(0)\n",
    "    optimizer.zero_grad()\n",
    "    \n",
    "# Train discriminator on real data\n",
    "    prediction_real = discriminator(real_data)\n",
    "    ones_target = torch.ones(length, features).fill_(0.9)\n",
    "    \n",
    "    error_real = loss(prediction_real, ones_target)\n",
    "    error_real.backward()\n",
    "    \n",
    "# Now train it on the generated data\n",
    "    prediction_generated=discriminator(generated_data)\n",
    "    zeros_target=torch.zeros(length, features)\n",
    "    error_generated=loss(prediction_generated, zeros_target)\n",
    "    error_generated.backward()\n",
    "    \n",
    "    optimizer.step()\n",
    "    \n",
    "    return error_real + error_generated, prediction_real, prediction_generated"
   ]
  },
  {
   "cell_type": "code",
   "execution_count": 142,
   "metadata": {},
   "outputs": [
    {
     "name": "stdout",
     "output_type": "stream",
     "text": [
      "torch.Size([4096, 7])\n"
     ]
    }
   ],
   "source": [
    "print(torch.zeros(length, features).shape)"
   ]
  },
  {
   "cell_type": "code",
   "execution_count": 125,
   "metadata": {},
   "outputs": [
    {
     "name": "stdout",
     "output_type": "stream",
     "text": [
      "7 4096\n"
     ]
    }
   ],
   "source": [
    "features=df_1_tensor.shape[1]\n",
    "length=df_1_tensor.shape[0]\n",
    "print(features,length)"
   ]
  },
  {
   "cell_type": "code",
   "execution_count": 128,
   "metadata": {},
   "outputs": [
    {
     "name": "stdout",
     "output_type": "stream",
     "text": [
      "torch.Size([4096, 7]) tensor([[ 0.5782, -1.0735, -0.4241,  ..., -1.2504, -2.1099,  0.9686],\n",
      "        [-2.0597, -0.9863, -1.8043,  ...,  0.5064,  1.4252,  0.2861],\n",
      "        [-2.3956,  0.6608, -0.3533,  ...,  0.6131,  0.2037,  0.9399],\n",
      "        ...,\n",
      "        [-0.8105, -1.8216,  0.0849,  ...,  0.9396,  1.4353,  1.9747],\n",
      "        [-1.4459,  1.5719,  0.6610,  ...,  0.9998,  1.0377, -0.3131],\n",
      "        [ 1.4846,  0.3779,  0.4835,  ..., -0.2526,  0.4527,  0.0176]])\n"
     ]
    }
   ],
   "source": [
    "generator_input = torch.randn(length,features)\n",
    "print(generator_input.shape,generator_input)"
   ]
  },
  {
   "cell_type": "code",
   "execution_count": 172,
   "metadata": {},
   "outputs": [
    {
     "name": "stdout",
     "output_type": "stream",
     "text": [
      "torch.Size([4096, 7])\n"
     ]
    }
   ],
   "source": [
    "real_data = df_1_tensor.reshape(length,features)\n",
    "print(real_data.shape)"
   ]
  },
  {
   "cell_type": "code",
   "execution_count": 214,
   "metadata": {},
   "outputs": [],
   "source": [
    "d_lr = 1e-3\n",
    "g_lr = 1e-3\n",
    "d_optimizer = torch.optim.Adam(discriminator.parameters(), lr=d_lr)\n",
    "g_optimizer = torch.optim.Adam(generator.parameters(), lr=g_lr)\n",
    "loss = nn.BCELoss()\n",
    "d_losses=[]\n",
    "g_losses=[]\n",
    "printing_epoch = 100"
   ]
  },
  {
   "cell_type": "code",
   "execution_count": 121,
   "metadata": {},
   "outputs": [],
   "source": [
    "num_epochs=10\n",
    "discriminator_steps = 20\n",
    "generator_steps = 20"
   ]
  },
  {
   "cell_type": "code",
   "execution_count": 220,
   "metadata": {},
   "outputs": [],
   "source": [
    "resources='Gan_syn'"
   ]
  },
  {
   "cell_type": "code",
   "execution_count": 224,
   "metadata": {
    "scrolled": true
   },
   "outputs": [
    {
     "name": "stdout",
     "output_type": "stream",
     "text": [
      "Epoch\n",
      "0\n",
      "Discriminator Loss:\n",
      "0.47903263568878174\n",
      "Generator Loss:\n",
      "1.9483976364135742\n",
      "Epoch\n",
      "1\n",
      "Discriminator Loss:\n",
      "0.44602274894714355\n",
      "Generator Loss:\n",
      "2.2072551250457764\n",
      "Epoch\n",
      "2\n",
      "Discriminator Loss:\n",
      "0.4218013882637024\n",
      "Generator Loss:\n",
      "2.4419171810150146\n",
      "Epoch\n",
      "3\n",
      "Discriminator Loss:\n",
      "0.404962956905365\n",
      "Generator Loss:\n",
      "2.4979803562164307\n",
      "Epoch\n",
      "4\n",
      "Discriminator Loss:\n",
      "0.3995811343193054\n",
      "Generator Loss:\n",
      "2.1709229946136475\n",
      "Epoch\n",
      "5\n",
      "Discriminator Loss:\n",
      "0.4117361903190613\n",
      "Generator Loss:\n",
      "2.10115122795105\n",
      "Epoch\n",
      "6\n",
      "Discriminator Loss:\n",
      "0.42125001549720764\n",
      "Generator Loss:\n",
      "2.3177051544189453\n",
      "Epoch\n",
      "7\n",
      "Discriminator Loss:\n",
      "0.41825222969055176\n",
      "Generator Loss:\n",
      "2.4288265705108643\n",
      "Epoch\n",
      "8\n",
      "Discriminator Loss:\n",
      "0.41126537322998047\n",
      "Generator Loss:\n",
      "2.560979127883911\n",
      "Epoch\n",
      "9\n",
      "Discriminator Loss:\n",
      "0.40250805020332336\n",
      "Generator Loss:\n",
      "2.719391107559204\n"
     ]
    }
   ],
   "source": [
    "# Set the models to training mode\n",
    "discriminator.train()\n",
    "generator.train()\n",
    "\n",
    "for epoch in range(num_epochs):\n",
    "    real_data= None\n",
    "    generated_data= None\n",
    "    \n",
    "    for d_steps in range(discriminator_steps):\n",
    "        real_data = df_1_tensor.reshape(length,features) #data generated form the polynomial\n",
    "        generator_input = torch.randn(length,features) #Data from the noise function we built\n",
    "#----------------generator input and generator data are different, dont directly feed noise in discriminator\n",
    "# instead feed noise to gen and o/p of generator as generator data to discriminator\n",
    "#       Dont calculate gradient for this\n",
    "        generated_data=generator(generator_input).detach()\n",
    "    \n",
    "        d_error, d_pred_real, d_pred_generated = \\\n",
    "            train_discriminator(\n",
    "                d_optimizer, real_data, generated_data)\n",
    "        d_losses.append(d_error.item())\n",
    "        \n",
    "    for g_steps in range(generator_steps):\n",
    "        generator_input = torch.randn(length,features)\n",
    "        \n",
    "        generated_data=generator(generator_input)\n",
    "        \n",
    "        g_error = train_generator(g_optimizer, generated_data)\n",
    "        g_losses.append(g_error.item())\n",
    "        \n",
    "    print(\"Epoch\")\n",
    "    print(epoch)\n",
    "    print(\"Discriminator Loss:\")\n",
    "    print(d_error.item())\n",
    "    print(\"Generator Loss:\")\n",
    "    print(g_error.item())\n",
    "        \n",
    "#     if(epoch% printing_epoch==0):\n",
    "#         clear_output()\n",
    "#         print(\"Epoch\")\n",
    "#         print(epoch)\n",
    "#         print(\"Discriminator Loss:\")\n",
    "#         print(d_error.item())\n",
    "#         print(\"Generator Loss:\")\n",
    "#         print(g_error.item())\n",
    "#         current_status(real_data, generated_data, epoch)"
   ]
  },
  {
   "cell_type": "code",
   "execution_count": 231,
   "metadata": {},
   "outputs": [
    {
     "data": {
      "text/plain": [
       "[<matplotlib.lines.Line2D at 0x221034f80b8>]"
      ]
     },
     "execution_count": 231,
     "metadata": {},
     "output_type": "execute_result"
    },
    {
     "data": {
      "image/png": "[encoded data removed]",
      "text/plain": [
       "<Figure size 432x288 with 1 Axes>"
      ]
     },
     "metadata": {
      "needs_background": "light"
     },
     "output_type": "display_data"
    }
   ],
   "source": [
    "plt.plot(g_losses)\n",
    "plt.plot(d_losses)"
   ]
  },
  {
   "cell_type": "code",
   "execution_count": 226,
   "metadata": {
    "scrolled": true
   },
   "outputs": [
    {
     "data": {
      "text/plain": [
       "[<matplotlib.lines.Line2D at 0x221034f37b8>]"
      ]
     },
     "execution_count": 226,
     "metadata": {},
     "output_type": "execute_result"
    },
    {
     "data": {
      "image/png": "[encoded data removed]",
      "text/plain": [
       "<Figure size 432x288 with 1 Axes>"
      ]
     },
     "metadata": {
      "needs_background": "light"
     },
     "output_type": "display_data"
    }
   ],
   "source": [
    "plt.plot(g_error.item())"
   ]
  },
  {
   "cell_type": "code",
   "execution_count": null,
   "metadata": {},
   "outputs": [],
   "source": []
  },
  {
   "cell_type": "code",
   "execution_count": null,
   "metadata": {},
   "outputs": [],
   "source": []
  },
  {
   "cell_type": "code",
   "execution_count": 88,
   "metadata": {
    "scrolled": false
   },
   "outputs": [],
   "source": []
  },
  {
   "cell_type": "code",
   "execution_count": 107,
   "metadata": {
    "scrolled": true
   },
   "outputs": [
    {
     "name": "stdout",
     "output_type": "stream",
     "text": [
      "torch.Size([1, 4096, 14]) tensor([[[ 0.2526, -0.0589,  0.0018,  ..., -0.1683, -0.1069, -0.2383],\n",
      "         [ 0.2523, -0.0595,  0.0015,  ..., -0.1684, -0.1071, -0.2388],\n",
      "         [ 0.2533, -0.0576,  0.0023,  ..., -0.1681, -0.1088, -0.2369],\n",
      "         ...,\n",
      "         [ 0.1751, -0.1086,  0.0160,  ..., -0.1915, -0.0359, -0.2161],\n",
      "         [ 0.1764, -0.1077,  0.0155,  ..., -0.1910, -0.0357, -0.2165],\n",
      "         [ 0.1768, -0.1075,  0.0147,  ..., -0.1915, -0.0366, -0.2157]]],\n",
      "       grad_fn=<AddBackward0>)\n"
     ]
    }
   ],
   "source": [
    "print(pop.shape,pop)"
   ]
  },
  {
   "cell_type": "code",
   "execution_count": 105,
   "metadata": {},
   "outputs": [],
   "source": [
    "pop=generator(df_1_tensor)"
   ]
  },
  {
   "cell_type": "code",
   "execution_count": 68,
   "metadata": {},
   "outputs": [],
   "source": [
    "pop=discriminator(df_1_tensor)"
   ]
  },
  {
   "cell_type": "code",
   "execution_count": 99,
   "metadata": {},
   "outputs": [],
   "source": [
    "x=pop[0,:,3].detach().numpy()"
   ]
  },
  {
   "cell_type": "code",
   "execution_count": 100,
   "metadata": {
    "scrolled": false
   },
   "outputs": [
    {
     "data": {
      "text/plain": [
       "[<matplotlib.lines.Line2D at 0x22100af6048>]"
      ]
     },
     "execution_count": 100,
     "metadata": {},
     "output_type": "execute_result"
    },
    {
     "data": {
      "image/png": "[encoded data removed]",
      "text/plain": [
       "<Figure size 432x288 with 1 Axes>"
      ]
     },
     "metadata": {
      "needs_background": "light"
     },
     "output_type": "display_data"
    }
   ],
   "source": [
    "plt.plot(x)"
   ]
  },
  {
   "cell_type": "code",
   "execution_count": 101,
   "metadata": {},
   "outputs": [
    {
     "data": {
      "text/plain": [
       "[<matplotlib.lines.Line2D at 0x22100b2e3c8>]"
      ]
     },
     "execution_count": 101,
     "metadata": {},
     "output_type": "execute_result"
    },
    {
     "data": {
      "image/png": "[encoded data removed]",
      "text/plain": [
       "<Figure size 432x288 with 1 Axes>"
      ]
     },
     "metadata": {
      "needs_background": "light"
     },
     "output_type": "display_data"
    }
   ],
   "source": [
    "plt.plot(dummy2[:,3])"
   ]
  },
  {
   "cell_type": "code",
   "execution_count": 61,
   "metadata": {},
   "outputs": [],
   "source": []
  },
  {
   "cell_type": "code",
   "execution_count": 221,
   "metadata": {},
   "outputs": [],
   "source": [
    "def current_status(real, generated, epoch):\n",
    "    x, y = zip(*generated.tolist())\n",
    "    plt.scatter(x, y, label='Generated Data')\n",
    "    x, y = zip(*real.tolist())\n",
    "    plt.scatter(x, y, label='Real Data')\n",
    "    plt.legend(loc='upper right')\n",
    "    plt.xlabel(\"input\")\n",
    "    plt.title(\"Comparsion of Real vs Generated Data - Epoch %s\" %epoch)\n",
    "    n=str(epoch).zfill(4)\n",
    "    save_location = resources+ 'outputs/epoch-%s.png' %n\n",
    "    plt.savefig(save_location, bbox_inches='tight')   ##quite useful\n",
    "    plt.show()"
   ]
  },
  {
   "cell_type": "code",
   "execution_count": 63,
   "metadata": {},
   "outputs": [
    {
     "ename": "SyntaxError",
     "evalue": "'return' outside function (<ipython-input-63-adbe5eee2594>, line 23)",
     "output_type": "error",
     "traceback": [
      "\u001b[1;36m  File \u001b[1;32m\"<ipython-input-63-adbe5eee2594>\"\u001b[1;36m, line \u001b[1;32m23\u001b[0m\n\u001b[1;33m    return out\u001b[0m\n\u001b[1;37m              ^\u001b[0m\n\u001b[1;31mSyntaxError\u001b[0m\u001b[1;31m:\u001b[0m 'return' outside function\n"
     ]
    }
   ],
   "source": []
  },
  {
   "cell_type": "code",
   "execution_count": 65,
   "metadata": {
    "scrolled": true
   },
   "outputs": [],
   "source": []
  }
 ],
 "metadata": {
  "kernelspec": {
   "display_name": "Python 3",
   "language": "python",
   "name": "python3"
  },
  "language_info": {
   "codemirror_mode": {
    "name": "ipython",
    "version": 3
   },
   "file_extension": ".py",
   "mimetype": "text/x-python",
   "name": "python",
   "nbconvert_exporter": "python",
   "pygments_lexer": "ipython3",
   "version": "3.7.3"
  }
 },
 "nbformat": 4,
 "nbformat_minor": 4
}
